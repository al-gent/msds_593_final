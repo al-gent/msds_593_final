{
 "cells": [
  {
   "cell_type": "code",
   "execution_count": 1,
   "metadata": {},
   "outputs": [],
   "source": [
    "import pandas as pd\n",
    "import numpy as np\n",
    "import matplotlib.pyplot as plt\n"
   ]
  },
  {
   "cell_type": "code",
   "execution_count": 2,
   "metadata": {},
   "outputs": [],
   "source": [
    "\n",
    "df = pd.read_csv('../data/spotify.csv', encoding='iso-8859-1')\n",
    "#I'm not sure whatsup with this encoding, but it gave me an error originally.\n",
    "# When i passed the error to chatgpt it told me to try this. ¯\\_(ツ)_/¯\n"
   ]
  },
  {
   "cell_type": "markdown",
   "metadata": {},
   "source": [
    "<h1>Goals</h1>\n",
    "\n",
    "1. A high-level summary of the data through EDA.\n",
    "2. Some highlight facts about the data through well-designed visualizations.\n",
    "3. Some ideas about how to use this data in business or policy from what you have\n",
    "learned.\n",
    "4. Present the above to the audience."
   ]
  },
  {
   "cell_type": "code",
   "execution_count": 3,
   "metadata": {},
   "outputs": [
    {
     "name": "stdout",
     "output_type": "stream",
     "text": [
      "We have 4600 entries and 29 columns\n"
     ]
    }
   ],
   "source": [
    "print(f\"We have {df.shape[0]} entries and {df.shape[1]} columns\")"
   ]
  },
  {
   "cell_type": "markdown",
   "metadata": {},
   "source": [
    "<h1> Column Descriptions </h1>\n",
    "\n",
    "+         Track Name: Name of the song.\n",
    "+         Album Name: Name of the album the song belongs to.\n",
    "+         Artist: Name of the artist(s) of the song.\n",
    "+         Release Date: Date when the song was released.\n",
    "+         ISRC: International Standard Recording Code for the song.\n",
    "+         All Time Rank: Ranking of the song based on its all-time popularity.\n",
    "+         Track Score: Score assigned to the track based on various factors.\n",
    "+         Spotify Streams: Total number of streams on Spotify.\n",
    "+         Spotify Playlist Count: Number of Spotify playlists the song is included in.\n",
    "+         Spotify Playlist Reach: Reach of the song across Spotify playlists.\n",
    "+         Spotify Popularity: Popularity score of the song on Spotify.\n",
    "+         YouTube Views: Total views of the song's official video on YouTube.\n",
    "+         YouTube Likes: Total likes on the song's official video on YouTube.\n",
    "+         TikTok Posts: Number of TikTok posts featuring the song.\n",
    "+         TikTok Likes: Total likes on TikTok posts featuring the song.\n",
    "+         TikTok Views: Total views on TikTok posts featuring the song.\n",
    "+         YouTube Playlist Reach: Reach of the song across YouTube playlists.\n",
    "+         Apple Music Playlist Count: Number of Apple Music playlists the song is included in.\n",
    "+         AirPlay Spins: Number of times the song has been played on radio stations.\n",
    "+         SiriusXM Spins: Number of times the song has been played on SiriusXM.\n",
    "+         Deezer Playlist Count: Number of Deezer playlists the song is included in.\n",
    "+         Deezer Playlist Reach: Reach of the song across Deezer playlists.\n",
    "+         Amazon Playlist Count: Number of Amazon Music playlists the song is included in.\n",
    "+         Pandora Streams: Total number of streams on Pandora.\n",
    "+         Pandora Track Stations: Number of Pandora stations featuring the song.\n",
    "+         Soundcloud Streams: Total number of streams on Soundcloud.\n",
    "+         Shazam Counts: Total number of times the song has been Shazamed.\n",
    "+         TIDAL Popularity: Popularity score of the song on TIDAL.\n",
    "+         Explicit Track: Indicates whether the song contains explicit content."
   ]
  },
  {
   "cell_type": "code",
   "execution_count": 4,
   "metadata": {},
   "outputs": [
    {
     "data": {
      "text/plain": [
       "Track                         False\n",
       "Album Name                    False\n",
       "Artist                         True\n",
       "Release Date                  False\n",
       "ISRC                          False\n",
       "All Time Rank                 False\n",
       "Track Score                   False\n",
       "Spotify Streams                True\n",
       "Spotify Playlist Count         True\n",
       "Spotify Playlist Reach         True\n",
       "Spotify Popularity             True\n",
       "YouTube Views                  True\n",
       "YouTube Likes                  True\n",
       "TikTok Posts                   True\n",
       "TikTok Likes                   True\n",
       "TikTok Views                   True\n",
       "YouTube Playlist Reach         True\n",
       "Apple Music Playlist Count     True\n",
       "AirPlay Spins                  True\n",
       "SiriusXM Spins                 True\n",
       "Deezer Playlist Count          True\n",
       "Deezer Playlist Reach          True\n",
       "Amazon Playlist Count          True\n",
       "Pandora Streams                True\n",
       "Pandora Track Stations         True\n",
       "Soundcloud Streams             True\n",
       "Shazam Counts                  True\n",
       "TIDAL Popularity               True\n",
       "Explicit Track                False\n",
       "dtype: bool"
      ]
     },
     "execution_count": 4,
     "metadata": {},
     "output_type": "execute_result"
    }
   ],
   "source": [
    "df.isnull().any()\n",
    "\n",
    "#Most cols have missing values\n",
    "\n",
    "#Seems to me like our target variable is Spotify Streams? What do y'all think?"
   ]
  },
  {
   "cell_type": "code",
   "execution_count": 5,
   "metadata": {},
   "outputs": [
    {
     "data": {
      "text/plain": [
       "113"
      ]
     },
     "execution_count": 5,
     "metadata": {},
     "output_type": "execute_result"
    }
   ],
   "source": [
    "df['Spotify Streams'].isnull().sum()\n",
    "#113 missing values. \n",
    "# In lecture yesterday she said if your target is missing, drop those rows. \n"
   ]
  },
  {
   "cell_type": "code",
   "execution_count": 6,
   "metadata": {},
   "outputs": [
    {
     "data": {
      "text/plain": [
       "113"
      ]
     },
     "execution_count": 6,
     "metadata": {},
     "output_type": "execute_result"
    }
   ],
   "source": [
    "df_cleaned = df.dropna(subset=['Spotify Streams'])\n",
    "len(df) - len(df_cleaned)\n",
    "#just double checking that that function worked :) \n"
   ]
  },
  {
   "cell_type": "code",
   "execution_count": 7,
   "metadata": {},
   "outputs": [
    {
     "name": "stdout",
     "output_type": "stream",
     "text": [
      "int64\n"
     ]
    },
    {
     "name": "stderr",
     "output_type": "stream",
     "text": [
      "/var/folders/vb/c_7gcdvd2kg4s_jdwfky3xhm0000gn/T/ipykernel_97465/1366611653.py:4: SettingWithCopyWarning: \n",
      "A value is trying to be set on a copy of a slice from a DataFrame.\n",
      "Try using .loc[row_indexer,col_indexer] = value instead\n",
      "\n",
      "See the caveats in the documentation: https://pandas.pydata.org/pandas-docs/stable/user_guide/indexing.html#returning-a-view-versus-a-copy\n",
      "  df_cleaned['Spotify Streams'] = df_cleaned['Spotify Streams'].str.replace(',','')\n",
      "/var/folders/vb/c_7gcdvd2kg4s_jdwfky3xhm0000gn/T/ipykernel_97465/1366611653.py:5: SettingWithCopyWarning: \n",
      "A value is trying to be set on a copy of a slice from a DataFrame.\n",
      "Try using .loc[row_indexer,col_indexer] = value instead\n",
      "\n",
      "See the caveats in the documentation: https://pandas.pydata.org/pandas-docs/stable/user_guide/indexing.html#returning-a-view-versus-a-copy\n",
      "  df_cleaned['Spotify Streams'] = df_cleaned['Spotify Streams'].astype('int')\n"
     ]
    }
   ],
   "source": [
    "df_cleaned.dtypes\n",
    "#Hmm, I think Spotify Streams should be int type. \n",
    "#Get rid of commas so we can convert to int type.\n",
    "df_cleaned['Spotify Streams'] = df_cleaned['Spotify Streams'].str.replace(',','')\n",
    "df_cleaned['Spotify Streams'] = df_cleaned['Spotify Streams'].astype('int')\n",
    "print(df_cleaned['Spotify Streams'].dtype)\n",
    "\n"
   ]
  },
  {
   "cell_type": "code",
   "execution_count": 8,
   "metadata": {},
   "outputs": [
    {
     "data": {
      "image/png": "[encoded data removed]",
      "text/plain": [
       "<Figure size 600x400 with 1 Axes>"
      ]
     },
     "metadata": {},
     "output_type": "display_data"
    }
   ],
   "source": [
    "fig, ax = plt.subplots(figsize=(6,4))\n",
    "\n",
    "ax.hist(df_cleaned['Spotify Streams'], bins=100)\n",
    "\n",
    "plt.show()\n",
    "\n",
    "#This is about what I expected. A few songs are extremely popular,\n",
    "#  and most songs would have a relatively small number of streams\n"
   ]
  },
  {
   "cell_type": "code",
   "execution_count": 9,
   "metadata": {},
   "outputs": [
    {
     "name": "stdout",
     "output_type": "stream",
     "text": [
      "0.01    9.834700e+03\n",
      "0.10    1.387903e+07\n",
      "0.25    7.038630e+07\n",
      "0.50    2.398507e+08\n",
      "0.75    6.283638e+08\n",
      "0.90    1.190402e+09\n",
      "0.99    2.307692e+09\n",
      "Name: Spotify Streams, dtype: float64\n"
     ]
    }
   ],
   "source": [
    "print(df_cleaned['Spotify Streams'].quantile([.01, .1, .25, .5, .75, .9, .99]))\n"
   ]
  },
  {
   "cell_type": "code",
   "execution_count": 10,
   "metadata": {},
   "outputs": [
    {
     "data": {
      "image/png": "[encoded data removed]",
      "text/plain": [
       "<Figure size 600x400 with 1 Axes>"
      ]
     },
     "metadata": {},
     "output_type": "display_data"
    }
   ],
   "source": [
    "#Lets look at our distribution without the outliers\n",
    "fig, ax = plt.subplots(figsize=(6,4))\n",
    "\n",
    "low_90 = df_cleaned[df_cleaned['Spotify Streams'] < df_cleaned['Spotify Streams'].quantile(0.90)]\n",
    "\n",
    "ax.hist(low_90['Spotify Streams'], bins=100)\n",
    "\n",
    "plt.show()\n",
    "\n",
    "#Distribution looks exponential? "
   ]
  },
  {
   "cell_type": "code",
   "execution_count": null,
   "metadata": {},
   "outputs": [],
   "source": []
  }
 ],
 "metadata": {
  "kernelspec": {
   "display_name": "base",
   "language": "python",
   "name": "python3"
  },
  "language_info": {
   "codemirror_mode": {
    "name": "ipython",
    "version": 3
   },
   "file_extension": ".py",
   "mimetype": "text/x-python",
   "name": "python",
   "nbconvert_exporter": "python",
   "pygments_lexer": "ipython3",
   "version": "3.11.9"
  }
 },
 "nbformat": 4,
 "nbformat_minor": 2
}
